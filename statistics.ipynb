{
 "cells": [
  {
   "cell_type": "code",
   "execution_count": 36,
   "metadata": {},
   "outputs": [],
   "source": [
    "import numpy as np\n",
    "import matplotlib.pyplot as plt\n",
    "import scipy\n",
    "from scipy.stats import ttest_ind\n",
    "import seaborn as sns"
   ]
  },
  {
   "cell_type": "code",
   "execution_count": 55,
   "metadata": {},
   "outputs": [],
   "source": [
    "mean_score1 = np.array([0.33451957, 0.3313783 , 0.39800995, 0.26182965, 0.37799043,\n",
    "                        0.39810427, 0.33234421, 0.24537037, 0.40289855, 0.39914163])\n",
    "mean_score2 = np.array([0.68683274, 0.80351906, 0.61691542, 0.6214511 , 0.52631579,\n",
    "                        0.68720379, 0.57566766, 0.61574074, 0.74492754, 0.72961373])\n",
    "mean_score3 = np.array([0.48704663, 0.41240876, 0.64516129, 0.4213198 , 0.71818182,\n",
    "                        0.57931034, 0.57731959, 0.39849624, 0.54085603, 0.54705882])\n",
    "\n",
    "mean_mat = np.vstack((mean_score1,mean_score2,mean_score3))\n",
    "mean_overall = np.mean(mean_mat, axis = 0)"
   ]
  },
  {
   "cell_type": "code",
   "execution_count": 26,
   "metadata": {},
   "outputs": [],
   "source": [
    "mean_score1_hpss = np.array([0.34519573, 0.32844575, 0.40298507, 0.24290221, 0.36363636, \n",
    "                             0.36492891, 0.33234421, 0.24537037, 0.3884058 , 0.39914163])\n",
    "mean_score2_hpss = np.array([0.68683274, 0.80938416, 0.61691542, 0.62460568, 0.52631579,\n",
    "                             0.68720379, 0.57566766, 0.61574074, 0.74492754, 0.72103004])\n",
    "mean_score3_hpss = np.array([0.50259067, 0.4057971 , 0.65322581, 0.38888889, 0.69090909,\n",
    "                             0.53103448, 0.57731959, 0.39849624, 0.52140078, 0.55357143])\n",
    "\n",
    "mean_mat_hpss = np.vstack((mean_score1_hpss,mean_score2_hpss,mean_score3_hpss))\n",
    "mean_overall_hpss = np.mean(mean_mat_hpss, axis = 0)"
   ]
  },
  {
   "cell_type": "code",
   "execution_count": 69,
   "metadata": {},
   "outputs": [
    {
     "data": {
      "image/png": "[encoded data removed]",
      "text/plain": [
       "<Figure size 432x288 with 1 Axes>"
      ]
     },
     "metadata": {
      "needs_background": "light"
     },
     "output_type": "display_data"
    }
   ],
   "source": [
    "data_a = [mean_score1, mean_score2, mean_score3]\n",
    "data_b = [mean_score1_hpss, mean_score2_hpss, mean_score3_hpss]\n",
    "\n",
    "ticks = ['score 1', 'score 2', 'score 3']\n",
    "\n",
    "def set_box_color(bp, color):\n",
    "    plt.setp(bp['boxes'], color=color)\n",
    "    plt.setp(bp['whiskers'], color=color)\n",
    "    plt.setp(bp['caps'], color=color)\n",
    "    plt.setp(bp['medians'], color=color)\n",
    "    \n",
    "plt.figure()\n",
    "bpl = plt.boxplot(data_a, positions=np.array(range(len(data_a)))*2.0-0.4, sym='', widths=0.6)\n",
    "bpr = plt.boxplot(data_b, positions=np.array(range(len(data_b)))*2.0+0.4, sym='', widths=0.6)\n",
    "set_box_color(bpl, '#D7191C') # colors are from http://colorbrewer2.org/\n",
    "set_box_color(bpr, '#2C7BB6')\n",
    "\n",
    "# draw temporary red and blue lines and use them to create a legend\n",
    "plt.plot([], c='#D7191C', label='Without HPSS')\n",
    "plt.plot([], c='#2C7BB6', label='With HPSS')\n",
    "plt.legend()\n",
    "\n",
    "plt.xticks(range(0, len(ticks) * 2, 2), ticks)\n",
    "plt.xlim(-2, len(ticks)*2)\n",
    "plt.ylim(0, 1)\n",
    "plt.ylabel('Score')\n",
    "plt.tight_layout()\n",
    "\n",
    "plt.savefig('score_boxplot.png')"
   ]
  },
  {
   "cell_type": "code",
   "execution_count": 28,
   "metadata": {},
   "outputs": [
    {
     "name": "stdout",
     "output_type": "stream",
     "text": [
      "t = 0.223, p = 0.826\n"
     ]
    },
    {
     "data": {
      "text/plain": [
       "'Probably the same distribution'"
      ]
     },
     "metadata": {},
     "output_type": "display_data"
    }
   ],
   "source": [
    "stat, p = ttest_ind(mean_score3, mean_score3_hpss)\n",
    "print('t = %.3f, p = %.3f' % (stat, p))\n",
    "if p > 0.05:\n",
    "\tdisplay('Probably the same distribution')\n",
    "else:\n",
    "\tdisplay('Probably different distributions')"
   ]
  },
  {
   "cell_type": "code",
   "execution_count": 29,
   "metadata": {},
   "outputs": [
    {
     "name": "stdout",
     "output_type": "stream",
     "text": [
      "t = 0.249, p = 0.806\n"
     ]
    },
    {
     "data": {
      "text/plain": [
       "'Probably the same distribution'"
      ]
     },
     "metadata": {},
     "output_type": "display_data"
    }
   ],
   "source": [
    "stat, p = ttest_ind(mean_overall, mean_overall_hpss)\n",
    "print('t = %.3f, p = %.3f' % (stat, p))\n",
    "if p > 0.05:\n",
    "\tdisplay('Probably the same distribution')\n",
    "else:\n",
    "\tdisplay('Probably different distributions')"
   ]
  },
  {
   "cell_type": "code",
   "execution_count": 68,
   "metadata": {},
   "outputs": [
    {
     "data": {
      "image/png": "[encoded data removed]",
      "text/plain": [
       "<Figure size 432x288 with 1 Axes>"
      ]
     },
     "metadata": {
      "needs_background": "light"
     },
     "output_type": "display_data"
    }
   ],
   "source": [
    "inversion_count = np.array([3, 2, 21, 17, 10, 12, 47, 48, 45, 45])\n",
    "\n",
    "fig = plt.figure()\n",
    "\n",
    "plt.scatter(inversion_count,mean_score3)\n",
    "m,b = np.polyfit(inversion_count, mean_score3,1)\n",
    "plt.plot(inversion_count, m * inversion_count + b, color = [0.5, 0, 0.5], alpha = 0.5)\n",
    "plt.xlabel('inversion count')\n",
    "plt.ylabel('score 3')\n",
    "\n",
    "plt.savefig('score_inversion_correlation.png')"
   ]
  },
  {
   "cell_type": "code",
   "execution_count": 71,
   "metadata": {},
   "outputs": [
    {
     "name": "stdout",
     "output_type": "stream",
     "text": [
      "Pearsons correlation: -0.046\n",
      "p-value: 0.899\n"
     ]
    }
   ],
   "source": [
    "from scipy.stats import pearsonr\n",
    "corr, p = pearsonr(inversion_count, mean_score3)\n",
    "print('Pearsons correlation: %.3f' % corr)\n",
    "print('p-value: %.3f' % p)"
   ]
  },
  {
   "cell_type": "code",
   "execution_count": 66,
   "metadata": {},
   "outputs": [
    {
     "data": {
      "image/png": "[encoded data removed]",
      "text/plain": [
       "<Figure size 432x288 with 1 Axes>"
      ]
     },
     "metadata": {
      "needs_background": "light"
     },
     "output_type": "display_data"
    }
   ],
   "source": [
    "fig = plt.figure()\n",
    "\n",
    "plt.scatter(mean_score2,mean_score3)\n",
    "m,b = np.polyfit(mean_score2, mean_score3,1)\n",
    "plt.plot(mean_score2, m * mean_score2 + b, color = [0.5, 0, 0.5], alpha = 0.5)\n",
    "plt.xlabel('score 2')\n",
    "plt.ylabel('score 3')\n",
    "\n",
    "plt.show()"
   ]
  },
  {
   "cell_type": "code",
   "execution_count": null,
   "metadata": {},
   "outputs": [],
   "source": []
  }
 ],
 "metadata": {
  "kernelspec": {
   "display_name": "Python 3",
   "language": "python",
   "name": "python3"
  },
  "language_info": {
   "codemirror_mode": {
    "name": "ipython",
    "version": 3
   },
   "file_extension": ".py",
   "mimetype": "text/x-python",
   "name": "python",
   "nbconvert_exporter": "python",
   "pygments_lexer": "ipython3",
   "version": "3.8.3"
  }
 },
 "nbformat": 4,
 "nbformat_minor": 4
}
